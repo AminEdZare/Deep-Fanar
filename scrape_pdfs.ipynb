{
 "cells": [
  {
   "cell_type": "code",
   "execution_count": 1,
   "id": "7c1722a0",
   "metadata": {},
   "outputs": [],
   "source": [
    "import io\n",
    "import requests\n",
    "from bs4 import BeautifulSoup              # unchanged\n",
    "from pdfminer.high_level import extract_text\n",
    "\n",
    "def url_scrape(url: str) -> str:\n",
    "    \"\"\"\n",
    "    Return up to `MAX_LEN` chars of plain‑text content from a web\n",
    "    page **or** PDF.  On any failure, return an explanatory string.\n",
    "    \"\"\"\n",
    "    headers = {\n",
    "        \"User-Agent\": (\n",
    "            \"Mozilla/5.0 (Windows NT 10.0; Win64; x64) \"\n",
    "            \"AppleWebKit/537.36 (KHTML, like Gecko) \"\n",
    "            \"Chrome/122.0.0.0 Safari/537.36\"\n",
    "        )\n",
    "    }\n",
    "\n",
    "    try:\n",
    "        r = requests.get(url, headers=headers, timeout=15)\n",
    "        r.raise_for_status()\n",
    "\n",
    "        # ------------ PDF or HTML? ---------------------------------\n",
    "        ctype = (r.headers.get(\"Content-Type\") or \"\").lower()\n",
    "        is_pdf_header = r.content[:4] == b\"%PDF\"\n",
    "        is_pdf_url    = url.lower().endswith(\".pdf\")\n",
    "        is_pdf        = (\"application/pdf\" in ctype) or is_pdf_url or is_pdf_header\n",
    "\n",
    "        if is_pdf:\n",
    "            # ----------- PDF branch --------------------------------\n",
    "            text = extract_text(io.BytesIO(r.content)) or \"\"\n",
    "        else:\n",
    "            # ----------- HTML branch -------------------------------\n",
    "            soup = BeautifulSoup(r.text, \"html.parser\")\n",
    "            for tag in soup([\"script\", \"style\"]):\n",
    "                tag.decompose()\n",
    "            text = \" \".join(soup.stripped_strings)\n",
    "\n",
    "        text = text.strip()\n",
    "        return text[:5000] if len(text) > 5000 else text\n",
    "\n",
    "    except Exception as e:\n",
    "        return f\"Failed to scrape content from {url}: {e}\""
   ]
  },
  {
   "cell_type": "code",
   "execution_count": 2,
   "id": "96de2ab4",
   "metadata": {},
   "outputs": [
    {
     "data": {
      "text/plain": [
       "'نملأا ىلع يعانطصلاا ءاكذلا رطاخم\\nلمعلا  لبقتسمو\\n\\n)William Welser IV( عبارلا رسليو مايليوو )Osonde A. Osoba( ابوسوأ .أ يدنوسوأ\\n\\n اذه يف ةلصلا تاذ تاسايسلا لوح انريكفت هيجوت ةداعإ اننكمي\\n فيكو ؟لاجملا اذه يف انفعض نطاوم نمكت نيأو ؟ديدجلا ماظنلا\\n وأ قطنملا بوشت يتلا َءاطخلأا نورثأتملا دارفلأاو نومدختسملا د ّدحي\\n ةيزوهج رثكلأا  ّدعُت تاعاطق يأو ؟اهنوّلحي فيكو تاضارتفلاا\\n تابراقمل ًةءافك رثكلأا نوكتس جهُن يأو يعانطصلاا ءاكذلا اهحاتجيل\\n؟حئاوللا عضو\\n\\n ىلع دّكأ )Osoba and Welser, 2017( اًقباس ا ًريرقت انرشن دق انك\\n ماظن يف ةيعانطصلاا تاودلأا صخي ام يف زّيحتو فعض نطاوم دوجو\\n .حجرلأا ىلع ا ًضيأ كلذب رثأتتس ىرخأ تاعاطق  ّنكل ،ةيئانجلا ةلادعلا\\n يأ مهفل ٍمظنم  ٍدهج ةجيتن شقانيف ،يليلحتلا روظنملا اذه امأو\\n دقل .ةيعانطصلاا تاودلأا راشتنا ةدايزب رثأتت دق ىرخأ تلااجم\\n تاهويرانيس ممصنل ءاربخلا نم ةعونتم  ٍةعومجم ىلع اندمتعا\\n مسق فصي .ا ًريبك ا ًرثأ ثدحي نأ يعانطصلاا ءاكذلل نكمي ثيح\\n هفصو نكمي يذلا طابنتسلاا اذهب انمق فيك ”ثحبلا ةيجهنم“\\n\\nةمدقم\\n\\nةماع ةحمل\\n تارّيغت نمز ناك هنأب هفصتو اننمز ىلإ ةيلبقتسملا لايجلأا رظنت دق\\n تلالآا ىلع دمتعي عمتجم نم انلّوحت ،لاإ سيل دوقع ةعضب يفف .ةلئاه\\n تامولعملا رصع لصاو اميفو ،تامولعملا ىلع دمتعي ٍعمتجم ىلإ\\n ٍةديدج  ٍةفلُأب عتمتلا ىلع اًمغرم هسفن عمتجملا دجو ،جوضنلا\\n انهه نيعتسن .تانايبلا ىلع ةمئاقلاو ةيمزراوخلا مظنلا عم  ٍةميمحو\\n ةزهجلأا ىلإ ةراشلإل )artificial agents( ةيعانطصلاا تاودلأا حلطصمب\\n مّلعت تاءارجإ ىلع دمتعت يتلاو رارقلا عنص ىلع ةدعاسملا تاودلأاو\\n ءاكذلا مضي امب( تانايبلا ىلع ةمئاق وأ ةتمتؤم وأ ةيمزراوخ\\n ةزهجأ نيب ام تاودلأا هذه حوارتت 1.)هلاكشأ لكب )AI( يعانطصلاا\\n ميدقت تاك ّرحمو )Roomba( ابمور تاتوبور لثم ةيداع  ّدج\\n لثم اًم ّدقت رثكأ ةيفرعم مظن نيبو تنرتنلإا ةكبش ربع تايصوتلا\\n حبصت تاودلأا هذه  ّكفنت لاو .)IBM( مإ يب يآ نم )Watson( نوستاو\\n اهزورب رفسيو .رارقلا عنصل ةمظتنملا انتايلمع نم أزجتي لا اًءزج\\n فيكف .تاسايسلاب ةلصلا تاذ ةلئسلأا نم  ٍفيط نع اهدامتعاو\\n\\nيليلحت روظنم ةينلآا تاسايسلا اياضق نأشب ءاربخلا ىؤرCORPORATION \\n\\x0c ريياعملا  ىلع  ضوافتلا  ةداعإ  ىلإ  ةجاحلا\\n ةلوبقملا  وأ  ةلوقعملا  ةيصوصخلا  لوح  ةينوناقلا\\n طمنب  اهدامتعا  متي  ةديدج  تايجولونكت  مضتل\\n.عساو قاطن ىلعو عيرس\\n\\n تاءارب ماظن ناك كلذبو .ةسوملم ةيدام تاراكتبا نع ًةرابع ةمّيقلا\\n امأو .ةيداملا تاراكتبلاا هذه لثمل سوململا قيبطتلا لضفي عارتخلاا\\n كنار جياب ةيمزراوخ لثم( تامولعملا رصع يف تاراكتبلاا\\n اهّنأب موي دعب اًموي اهفصو نكميف ،))Google( لغوغ نم )PageRank(\\n ))abstract ideas( ”ةدرجم راكفأ“ وأ( ةسوملم ريغ راكفأ ىرحلأاب\\n نأ بجي لهف .تاءارجإ وأ تايمزراوخ وأ لمع بيلاسأ لكش ذختت\\n مأ ؟تاراكتبا اهرابتعاب ريغ لا ةسوململا ةيداملا ةديدجلا روملأاب  ّرقن\\n ةسوململا ريغ ةركتبملا بيلاسلأا وأ تايمزراوخلا رابتعا نكمي\\n  ّرم ىلع ريبك دح ىلإ عارتخلاا تاءارب نوناق رّيغت ؟ةيمحم تاراكتبا\\n فانصلأا هذه لثم باعيتسا لواحيل ةيضاملا نيثلاثلا تاونسلا\\n ىلعو .اهفّيكت نيناوقلا لصاوت نأ ح ّجرملا نمو ،راكتبلاا نم ةديدجلا\\n.ةحضاولا ةيكلملا قوقحو ةيراجتلا تاراكتبلاا زفاوح دجن كحملا\\n زربي ،يعانطصلاا ءاكذلاو راشتنلاا ةعساو ةتمتلأا روهظ عمو\\n\\n ضوخل دعتست يتلا تلااجملا نم ا ًرخآ  ًلااجم هرابتعاب فيظوتلا\\n ةتمتلأا  ّلحت نأ نم وه انه كرتشملا فوخلاو .ةريبك تابارطضا\\n يدؤيس ام ،لمعلا قوس يف رشبلا لا ّمعلا ناكم يعانطصلاا ءاكذلاو\\n ريبعتلل مدقأ لاكشأ تزّكر نأ قبسو .ةحماجلا ةلاطبلا عافترا ىلإ\\n يعانطصلاا ءاكذلا امأ .مصخلا اهرابتعاب ةتمتلأا ىلع فوخلا اذه نع\\n ،اذلو .فّيكتلاو مّلعتلا ىلع ةردقلا اهيلإ فاضُت ةتمتلأا ّلاإ وه امف ،نلآا\\n.ةتمتلأل اًيعيبط اًميمعت يعانطصلاا ءاكذلا لّثمي\\n\\n تلااجملا وأ تاهويرانيسلا لك لمحت لا انه نم .عّقوت ةيلمعب ساسلأاب\\n مجح وأ اهثودح لامتحا ثيح نم ءاوس(  ًةيمهأ ةطبنَتس ُملا\\n ةميقلا ييلاع نينثا نيلاجم ىلع انهه انشاقن يف زّكرن اذل .)اهريثأت\\n :امهو ،اهيلع ءوضلا طيلست مت يتلا اهلك تلااجملا ةعومجم لصأ نم\\n تاعوضوم لوح مسقب متتخنو .لمعلا لبقتسم )2(و نملأا )1(\\n ةطبترملا فواخملاو لئاسملا ةبراقم ةيفيكل تاحارتقاو تاسايسلا\\n.يعانطصلاا ءاكذلاب\\n\\nةيفلخو ديهمت\\n انحئاولو اننيناوق فييكت ةرورض نع تامولعملا رصع جوضن رفسأ\\n ةيجولونكتلا تارّيغتلا طمن  ّنكل .ءيشلا ضعب اهريوطتو انتاسايسو\\n .كلذ ةبكاوم نيناوقلاو حئاوللاو تاسايسلا ىلع ابّعص ام اًبلاغ اهت ّدشو\\n رخأت ناكمإب ،ةلئاه تارّيغت تدهش ىرخأ تارتف يف لاحلا ناك امكو\\n .تاسايسلا يف ةغلاب تارغث ىلإ  َيدؤي نأ م ّدقتلا يف حئاوللاو نيناوقلا\\n لاثملا ليبس ىلع تانايبلاب ةل ّمحملا تاعمتجملا اًيلاح ديعتف\\n يرورض  ٌرمأ اذهو .ةلوبقملا ةيصخشلا ةيصوصخلا ريياعم مييقت\\n ةزهاجلا تايمزراوخلاو راشتنلاا ةعساو تانايبلا عمج يمانت ىلإ ا ًرظن\\n ضوافتلا ةداعإ ىلإ ةجاحلا وعدت انه نم .ةفلكتلا ةيندتمو ةيوقلاو\\n مضتل ةلوبقملا وأ ةلوقعملا ةيصوصخلا لوح ةينوناقلا ريياعملا ىلع\\n .عساو قاطن ىلعو عيرس طمنب اهدامتعا متي ةديدج تايجولونكت\\n ،)Ohm, 2009; Davis and Osoba, 2016( كحملا ىلع انه ريثكلاو\\n نيكلهتسملا نيب فاصنلإاو ةيحصلا تانايبلا ةيصوصخ :هنم ركذن\\n.ةيروتسدلا دادعتلا ةيلمع ىتحو\\n\\n يف  ّتبلا رارق نّيبي ذإ .ا ًضيأ راكتبلال ينوناقلا انمهف مييقت داعُيو\\n\\n )2014( Alice Corp. Pty. LTD. v. CLS Bank International ةيضق\\n لازي لا نوناقلا نأ فيك ةدحتملا تايلاولل ايلعلا ةمكحملا نع رداصلا\\n عارتخا تاءاربك اهليجست نكمي يتلا تاراكتبلاا قاطن  ّدحيل فّيكتي\\n هذه لواحتو .)McKinney, 2015( تامولعملا ىلع مئاق عمتجم يف\\n ةءاربك هليجست نكمي ا ًسوملم اًراكتبا ربتعُي يذلا ام فيرعت ةيضقلا\\n تاراكتبلاا اهيف تناك ةئيب يف عارتخلاا تاءارب ماظن أشن ذإ .عارتخا\\n\\n2\\n\\n\\x0c ءاكذلا ثوحبل تاصصختلا ةددعتم ةب'"
      ]
     },
     "execution_count": 2,
     "metadata": {},
     "output_type": "execute_result"
    }
   ],
   "source": [
    "url_scrape(\"https://www.rand.org/content/dam/rand/pubs/perspectives/PE200/PE237/RAND_PE237z1.arabic.pdf\")"
   ]
  },
  {
   "cell_type": "code",
   "execution_count": 3,
   "id": "71fe1f04",
   "metadata": {},
   "outputs": [
    {
     "name": "stderr",
     "output_type": "stream",
     "text": [
      "Cannot set gray stroke color because /'P5' is an invalid float value\n",
      "Cannot set gray non-stroke color because /'P5' is an invalid float value\n"
     ]
    },
    {
     "data": {
      "text/plain": [
       "'Multi-Agent Automated Machine Learning\\n\\nZhaozhi Wang123†, Kefan Su1, Jian Zhang4, Huizhu Jia1, Qixiang Ye23, Xiaodong Xie1, Zongqing Lu1‡\\n\\n1Peking University\\n\\n2Peng Cheng Lab\\n\\n3University of Chinese Academy of Sciences\\n\\n4Huawei\\n\\nAbstract\\n\\nIn this paper, we propose multi-agent automated ma-\\nchine learning (MA2ML) with the aim to effectively han-\\ndle joint optimization of modules in automated machine\\nlearning (AutoML). MA2ML takes each machine learning\\nmodule, such as data augmentation (AUG), neural archi-\\ntecture search (NAS), or hyper-parameters (HPO), as an\\nagent and the final performance as the reward, to formu-\\nlate a multi-agent reinforcement learning problem. MA2ML\\nexplicitly assigns credit to each agent according to its\\nmarginal contribution to enhance cooperation among mod-\\nules, and incorporates off-policy learning to improve search\\nefficiency. Theoretically, MA2ML guarantees monotonic\\nimprovement of joint optimization. Extensive experiments\\nshow that MA2ML yields the state-of-the-art top-1 accuracy\\non ImageNet under constraints of computational cost, e.g.,\\n79.7%/80.5% with FLOPs fewer than 600M/800M. Exten-\\nsive ablation studies verify the benefits of credit assignment\\nand off-policy learning of MA2ML.\\n\\n1. Introduction\\n\\nAutomated machine learning (AutoML) aims to find\\nhigh-performance machine learning (ML) pipelines without\\nhuman effort involvement. The main challenge of AutoML\\nlies in finding optimal solutions in huge search spaces.\\n\\nIn recent years, reinforcement learning (RL) has been\\nvalidated to be effective to optimize individual AutoML\\nmodules, such as data augmentation (AUG) [4], neural ar-\\nchitecture search (NAS) [25, 53, 54], and hyper-parameter\\noptimization (HPO) [38]. However, when facing the huge\\nsearch space (Figure 1 left) and the joint optimization of\\nthese modules, the efficiency and performance challenges\\nremain.\\n\\nThrough experiments, we observed that among AutoML\\nmodules there exists a cooperative relationship that facilities\\nthe joint optimization of modules. For example, a small net-\\nwork (ResNet-34) with specified data augmentation and op-\\n\\n†The work was done during his Master program at Peking University.\\n‡Correspondence to (cid:66) zongqing.lu@pku.edu.cn\\n\\nFigure 1. Search spaces of machine learning pipelines. Left: sin-\\ngle agent controls all modules, and the huge search space makes\\nit ineffective to learn. Mid: each agent controls one module, and\\nthe learning difficulty is reduced by introducing MA2ML. Right:\\nMA2ML guarantees monotonic improvement of the searched\\npipeline, where pk and R(pk) denote the k-th searched pipeline\\nand its expected performance, respectively.\\n\\ntimized hyper-parameters significantly outperforms a large\\none (ResNet-50) with default training settings (76.8% vs.\\n76.1%).\\nIn other words, good AUG and HPO alleviate\\nthe need for NAS to some extent. Accordingly, we pro-\\npose multi-agent automated machine learning (MA2ML),\\nwhich explores the cooperative relationship towards joint\\noptimization of ML pipelines.\\nIn MA2ML, ML modules\\nare defined as RL agents (Figure 1 mid), which take ac-\\ntions to jointly maximize the reward, so that the training ef-\\nficiency and test accuracy are significantly improved. Spe-\\ncially, we introduce credit assignment to differentiate the\\ncontribution of each module, such that all modules can be\\nsimultaneously updated. To handle both continuous (e.g.,\\nlearning rate) and discrete (e.g., architecture) action spaces,\\nMA2ML employs a multi-agent actor-critic method, where\\na centralized Q-function is learned to evaluate the joint ac-\\ntion. Besides, to further improve search efficiency, MA2ML\\nadopts off-policy learning to exploit historical samples for\\npolicy updates.\\n\\nMA2ML is justified theoretically and experimentally.\\nTheoretically, we prove that MA2ML guarantees mono-\\ntonic policy improvement (Figure 1 right), i.e., the per-\\nformance of the searched pipeline monotonically improves\\nin expectation. This enables MA2ML to fit the joint op-\\ntimization problem and be adaptive to all modules in the\\nML pipeline, potentially achieving full automation. Exper-\\nimentally, we take the combination of individual RL-based\\nmodules to form MA2ML-Lite, and compare their perfor-\\n\\nHPOAUGHPOAUGNASNAS𝒌(cid:2878)𝟏𝒌𝒑𝒌(cid:2878)𝟏𝒑𝒌Huge search space of ML pipelinesSearched pipelineThisCVPRpaperistheOpenAccessversion,providedbytheComputerVisionFoundation.Exceptforthiswatermark,itisidenticaltotheacceptedversion;thefinalpublishedversionoftheproceedingsisavailableonIEEEXplore.11960\\x0cmance on ImageNet [31] and CIFAR-10/100 [20] datasets.\\nTo better balance performance and computational cost, we\\nadd constraints of FLOPs in the experiment on ImageNet.\\nExperiments show that MA2ML substantially outperforms\\nMA2ML-Lite w.r.t. both accuracy and sample efficiency,\\nand MA2ML achieves remarkable accuracy compared with\\nrecent methods.\\n\\nOur contributions are summarized as follows:\\n• We propose MA2ML, which utilizes credit assignment\\nto differentiate the contributions of ML module'"
      ]
     },
     "execution_count": 3,
     "metadata": {},
     "output_type": "execute_result"
    }
   ],
   "source": [
    "url_scrape(\"https://openaccess.thecvf.com/content/CVPR2023/papers/Wang_Multi-Agent_Automated_Machine_Learning_CVPR_2023_paper.pdf\")"
   ]
  },
  {
   "cell_type": "code",
   "execution_count": 4,
   "id": "7c181225",
   "metadata": {},
   "outputs": [
    {
     "data": {
      "text/plain": [
       "'نموذج قائم على الوكيل - ويكيبيديا انتقل إلى المحتوى القائمة الرئيسية القائمة الرئيسية انقل للشريط الجانبي أخف الموسوعة الصفحة الرئيسة الأحداث الجارية أحدث التغييرات أحدث التغييرات الأساسية تصفح المواضيع أبجدي بوابات مقالة عشوائية تصفح من غير إنترنت مشاركة تواصل مع ويكيبيديا مساعدة الميدان صفحات خاصة بحث بحث المظهر تبرع إنشاء حساب دخول أدوات شخصية تبرع إنشاء حساب دخول المحتويات انقل للشريط الجانبي أخف المقدمة 1 التاريخ ثبِّت القسم الفرعي التاريخ 1.1 التطورات المبكرة 1.2 السبعينات والثمانينات: النماذج الأولى 1.3 التسعينات: التوسع 1.4 عقد 2000 1.5 عقد 2020 2 النظرية ثبِّت القسم الفرعي النظرية 2.1 الإطار 2.2 النمذجة متعددة المقاييس 3 التطبيقات ثبِّت القسم الفرعي التطبيقات 3.1 في علم الأحياء 3.2 في علم الأوبئة 3.3 في الأعمال والتكنولوجيا ونظرية الشبكات 3.4 في علم الفرق 3.5 في الاقتصاد والعلوم الاجتماعية 3.6 في إدارة المياه 3.7 المحاكاة الموجهة بالوكلاء 3.8 السيارات ذاتية القيادة 4 التنفيذ ثبِّت القسم الفرعي التنفيذ 4.1 التكامل مع أشكال النمذجة الأخرى 5 التحقق والتصديق 6 انظر أيضا 7 مصادر عامة 8 مراجع تبديل عرض جدول المحتويات نموذج قائم على الوكيل 19 لغة Català Čeština Deutsch English Español فارسی Italiano 日本語 한국어 Nederlands Polski Русский Slovenščina Svenska தமிழ் Türkçe Українська 中文 粵語 عدل الوصلات مقالة نقاش العربية اقرأ عدّل تاريخ أدوات أدوات انقل للشريط الجانبي أخف إجراءات اقرأ عدّل تاريخ عام ماذا يصل هنا تغييرات ذات علاقة رفع ملف وصلة دائمة معلومات الصفحة استشهد بهذه الصفحة احصل على مسار مختصر تنزيل رمز الاستجابة السريعة طباعة/تصدير إنشاء كتاب تحميل PDF نسخة للطباعة في مشاريع أخرى ويكيميديا كومنز عنصر ويكي بيانات المظهر انقل للشريط الجانبي أخف من ويكيبيديا، الموسوعة الحرة جزء من سلسلة عن نظام متعدد الوكلاء نموذج قائم على الوكيل الاقتصاد الحسابي القائم على الوكيل النموذج القائم على الوكيل في علم الأحياء [الإنجليزية] \\u200f المحاكاة الاجتماعية القائمة على الوكيل [الإنجليزية] \\u200f برمجيات النمذجة القائمة على الوكيل [الإنجليزية] البرمجة الموجهة للعميل أوتو جي بي تي [الإنجليزية] شبكة البوتات مؤسسة الوكلاء الفيزيائيين الأذكياء [الإنجليزية] \\u200f مقارنة بين منصات وكلاء البرمجيات [الإنجليزية] \\u200f إطار عمل تطوير وكيل جافا [الإنجليزية] \\u200f وكلاء جاك الأذكياء [الإنجليزية] \\u200f جوريتا [الإنجليزية] \\u200f وكيل برمجي متعلقة الذكاء الاصطناعي الموزع [الإنجليزية] \\u200f تحديد المسار متعدد الوكلاء [الإنجليزية] \\u200f التخطيط متعدد الوكلاء [الإنجليزية] \\u200f التعلم المعزز متعدد الوكلاء [الإنجليزية] \\u200f الجسيمات ذاتية الدفع [الإنجليزية] \\u200f الروبوتات المتجمعة [الإنجليزية] \\u200f ع ن ت النموذج القائم على الوكيل ( ABM ) هو نوع محدد من النماذج الحاسوبية التي تحاكي سلوك وتفاعلات مجموعة متنوعة من الوكلاء المستقلين أو المتعاونين، سواء كانوا مجتمعين أو كل على حده. الهدف الأساسي لهذا النموذج هو فهم ديناميكيات النظام والتنبؤ بنتائجه المحتملة. يجمع هذا النوع من النمذجة بين عدة تخصصات علمية بما فيها نظرية الألعاب ، و الأنظمة المعقدة ، و علم الاجتماع الحاسوبي ، و الأنظمة متعددة الوكلاء ، و البرمجة التطورية . يتم تطبيق طريقة مونت كارلو لفهم العشوائية المتأصلة داخل هذه النماذج. وفي بعض الأحيان يطلق عليها أيضًا نماذج قائمة على الأفراد خاصة ضمن سياق علم البيئة. [ 1 ] هناك العديد من الدراسات الحديثة حول أنماط النماذج الفردية والنماذج المتعددة وأنظمة العوامل المتعددة تظهر أن هذه الأنواع من النماذج مستخدمة بشكل واسع عبر مختلف مجالات العلوم بما في ذلك علم الأحياء والبيئة و علم الاجتماع . [ 2 ] ومع ذلك فإن النمذجة القائمة على الوكلاء تختلف قليلًا عن مفهوم الأنظمة متعددة الوكلاء والمحاكاة حيث أنها تهدف أساسًا للبحث عن رؤى توضيحية حول السلوك الجماعي للوكلاء الذين يتبعون قواعد بسيطة بدلًا من تصميم وكلاء محددين أو حل مشكلات هندسية محددة. [ 2 ] نماذج العوامل هي نوع من النماذج الصغير، [ 3 ] التي تحاكي العمليات والتفاعلات المتزامنة لعوامل متعددة في محاولة لإعادة إنشاء والتنبؤ بظهور ظواهر معقدة. هذه العملية هي عملية ظهور ، والتي يعبر عنها البعض بأن \"الكل أكبر من مجموع أجزائه\". بعبارة أخرى، تظهر خصائص النظام عالية المستوى من تفاعلات الأنظمة الفرعية منخفضة المستوى. أو، تظهر تغيرات الحالة على النطاق الكلي من سلوكيات العوامل على النطاق الجزئي. أو، تولد السلوكيات البسيطة (بمعنى القواعد التي تتبعها العوامل) سلوكيات معقدةً (بمعنى تغيرات الحالة على مستوى النظام بأكمله). عادةً ما توصف العوامل الفردية بأنها عقلانية بشكل محدود ، ويفترض أنها تتصرف بما تراه في مصلحتها الخاصة، مثل التكاثر أو المنفعة الاقتصادية أو المكانة الاجتماعية، [ 4 ] باستخدام الاستدلال أو قواعد اتخاذ القرارات البسيطة. قد تواجه عوامل نموذج العوامل \"تعلمًا\" وتكيفًا وتكاثرًا. [ 5 ] تتكون معظم نماذج العوامل من: (1) العديد من العوامل المحددة على مستويات مختلفة (يشار إليها عادةً باسم دقة العامل)؛ (2) استدلالات اتخاذ القرارات؛ (3) قواعد التعلم أو العمليات التكيفية؛ (4) طوبولوجيا التفاعل ؛ (5) بيئة. عادةً ما يتم تنفيذ نماذج العوامل كمحاكاة حاسوبية ، إما كبرامج مخصصة، أو عبر أدوات نمذجة العوامل، ويمكن استخدام هذا البرنامج بعد ذلك لاختبار كيفية تأثير التغيرات في السلوكيات الفردية على السلوك العام الناشئ للنظام. التاريخ [ عدل ] طُورت فكرة النموذج القائم على الوكيل كمفهوم بسيط نسبيًا في أواخر الأربعينيات. نظرًا لأنّه يتطلّب إجراءات كثيفة الحساب، لم يصبح شائعًا حتّى التسعينيات. التطورات المبكرة [ عدل ] يعود تاريخ نموذج الوكيل إلى آلة فون نيومان النظرية القادرة على التكاثر. كانت الآلة التي اقترحها جون فون نيومان ستتبع تعليمات مفصلة بدقة لصنع نسخة من نفسها.'"
      ]
     },
     "execution_count": 4,
     "metadata": {},
     "output_type": "execute_result"
    }
   ],
   "source": [
    "url_scrape(\"https://is.gd/QSPGx4\")"
   ]
  },
  {
   "cell_type": "code",
   "execution_count": 5,
   "id": "2c03dcff",
   "metadata": {},
   "outputs": [
    {
     "data": {
      "text/plain": [
       "'Failed to scrape content from https://www.mdpi.com/2079-9292/14/4/820: 403 Client Error: Forbidden for url: https://www.mdpi.com/2079-9292/14/4/820'"
      ]
     },
     "execution_count": 5,
     "metadata": {},
     "output_type": "execute_result"
    }
   ],
   "source": [
    "url_scrape(\"https://www.mdpi.com/2079-9292/14/4/820\")"
   ]
  }
 ],
 "metadata": {
  "kernelspec": {
   "display_name": ".venv",
   "language": "python",
   "name": "python3"
  },
  "language_info": {
   "codemirror_mode": {
    "name": "ipython",
    "version": 3
   },
   "file_extension": ".py",
   "mimetype": "text/x-python",
   "name": "python",
   "nbconvert_exporter": "python",
   "pygments_lexer": "ipython3",
   "version": "3.13.2"
  }
 },
 "nbformat": 4,
 "nbformat_minor": 5
}
