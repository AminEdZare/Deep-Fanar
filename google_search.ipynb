{
 "cells": [
  {
   "cell_type": "code",
   "execution_count": 12,
   "id": "99a3f7f4",
   "metadata": {},
   "outputs": [],
   "source": [
    "import os\n",
    "import requests\n",
    "from dotenv import load_dotenv\n",
    "\n",
    "load_dotenv()                                # pulls API_KEY and SEARCH_ENGINE_ID from .env\n",
    "\n",
    "GOOGLE_API_KEY = os.getenv(\"GOOGLE_API_KEY\")         # your API key\n",
    "GOOGLE_CX_ID    = os.getenv(\"GOOGLE_SEARCH_ENGINE_ID\")  # the CX (search‑engine‑ID) you created\n",
    "\n",
    "def google_search(query: str, max_results: int = 2) -> list[str]:\n",
    "    \"\"\"\n",
    "    Thin wrapper around Google Programmable Search JSON API.\n",
    "    Returns up to `max_results` result URLs (or a single error message).\n",
    "    \"\"\"\n",
    "    url = \"https://www.googleapis.com/customsearch/v1\"\n",
    "    params = {\n",
    "        \"key\": GOOGLE_API_KEY,\n",
    "        \"cx\":  GOOGLE_CX_ID,\n",
    "        \"q\":   query,\n",
    "        \"num\": max_results\n",
    "    }\n",
    "\n",
    "    try:\n",
    "        resp = requests.get(url, params=params, timeout=10)\n",
    "        resp.raise_for_status()\n",
    "        data = resp.json()\n",
    "\n",
    "        # The API puts web results in data[\"items\"]; each has a \"link\" field.\n",
    "        return [item[\"link\"] for item in data.get(\"items\", [])]\n",
    "\n",
    "    except Exception as e:\n",
    "        return [f\"Search failed: {e}\"]\n"
   ]
  },
  {
   "cell_type": "code",
   "execution_count": 13,
   "id": "a9b400e6",
   "metadata": {},
   "outputs": [
    {
     "data": {
      "text/plain": [
       "['https://ar.wikipedia.org/wiki/%D9%86%D9%85%D9%88%D8%B0%D8%AC_%D9%82%D8%A7%D8%A6%D9%85_%D8%B9%D9%84%D9%89_%D8%A7%D9%84%D9%88%D9%83%D9%8A%D9%84',\n",
       " 'https://hyper.ai/ar/news/38583']"
      ]
     },
     "execution_count": 13,
     "metadata": {},
     "output_type": "execute_result"
    }
   ],
   "source": [
    "google_search(\"أبحاث الأوراق البحثية الحديثة حول أنظمة الوكلاء المتعددة\")"
   ]
  }
 ],
 "metadata": {
  "kernelspec": {
   "display_name": ".venv",
   "language": "python",
   "name": "python3"
  },
  "language_info": {
   "codemirror_mode": {
    "name": "ipython",
    "version": 3
   },
   "file_extension": ".py",
   "mimetype": "text/x-python",
   "name": "python",
   "nbconvert_exporter": "python",
   "pygments_lexer": "ipython3",
   "version": "3.13.2"
  }
 },
 "nbformat": 4,
 "nbformat_minor": 5
}
