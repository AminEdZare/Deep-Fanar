{
 "cells": [
  {
   "cell_type": "code",
   "execution_count": 1,
   "id": "fa11185c",
   "metadata": {},
   "outputs": [
    {
     "name": "stdout",
     "output_type": "stream",
     "text": [
      "Original URL: https://fastercapital.com/arabpreneur/%D8%A3%D9%86%D8%B8%D9%85%D8%A9-%D8%A7%D9%84%D9%88%D9%83%D9%84%D8%A7%D8%A1-%D8%A7%D9%84%D9%85%D8%AA%D8%B9%D8%AF%D8%AF%D9%8A%D9%86--%D9%85%D8%AD%D8%A7%D9%83%D8%A7%D8%A9-%D8%A7%D9%84%D8%AA%D9%81%D8%A7%D8%B9%D9%84%D8%A7%D8%AA-%D8%A7%D9%84%D8%A7%D8%AC%D8%AA%D9%85%D8%A7%D8%B9%D9%8A%D8%A9-%D8%A8%D8%A7%D8%B3%D8%AA%D8%AE%D8%AF%D8%A7%D9%85-%D9%85%D8%AD%D8%A7%D9%83%D8%A7%D8%A9-%D9%86%D9%85%D9%88%D8%B0%D8%AC-%D8%A7%D9%84%D8%A3%D9%86%D8%B8%D9%85%D8%A9-%D8%A7%D9%84%D9%85%D8%AA%D8%B9%D8%AF%D8%AF%D8%A9-%D8%A7%D9%84%D9%88%D9%83%D9%84%D8%A7%D8%A1.html\n",
      "Shortened URL: https://is.gd/Wqf2F3\n"
     ]
    }
   ],
   "source": [
    "import requests\n",
    "import json\n",
    "\n",
    "def shorten_url_free(long_url: str) -> str:\n",
    "    \"\"\"\n",
    "    Shortens a URL using the free is.gd API. No API key required.\n",
    "    \"\"\"\n",
    "    api_url = \"https://is.gd/create.php\"\n",
    "    params = {\n",
    "        'format': 'json',\n",
    "        'url': long_url\n",
    "    }\n",
    "    try:\n",
    "        response = requests.get(api_url, params=params, timeout=10)\n",
    "        response.raise_for_status()  # Raise an exception for bad status codes (like 4xx or 5xx)\n",
    "        data = response.json()\n",
    "        if 'shorturl' in data:\n",
    "            return data['shorturl']\n",
    "        else:\n",
    "            # is.gd returns an 'errorcode' and 'errormessage' on failure\n",
    "            error_message = data.get('errormessage', 'Unknown error')\n",
    "            return f\"Failed to shorten URL. Reason: {error_message}\"\n",
    "    except requests.exceptions.RequestException as e:\n",
    "        return f\"Request to is.gd failed: {str(e)}\"\n",
    "    except json.JSONDecodeError:\n",
    "        return \"Failed to parse response from is.gd. The service might be down.\"\n",
    "    \n",
    "long_arabic_url = \"https://fastercapital.com/arabpreneur/%D8%A3%D9%86%D8%B8%D9%85%D8%A9-%D8%A7%D9%84%D9%88%D9%83%D9%84%D8%A7%D8%A1-%D8%A7%D9%84%D9%85%D8%AA%D8%B9%D8%AF%D8%AF%D9%8A%D9%86--%D9%85%D8%AD%D8%A7%D9%83%D8%A7%D8%A9-%D8%A7%D9%84%D8%AA%D9%81%D8%A7%D8%B9%D9%84%D8%A7%D8%AA-%D8%A7%D9%84%D8%A7%D8%AC%D8%AA%D9%85%D8%A7%D8%B9%D9%8A%D8%A9-%D8%A8%D8%A7%D8%B3%D8%AA%D8%AE%D8%AF%D8%A7%D9%85-%D9%85%D8%AD%D8%A7%D9%83%D8%A7%D8%A9-%D9%86%D9%85%D9%88%D8%B0%D8%AC-%D8%A7%D9%84%D8%A3%D9%86%D8%B8%D9%85%D8%A9-%D8%A7%D9%84%D9%85%D8%AA%D8%B9%D8%AF%D8%AF%D8%A9-%D8%A7%D9%84%D9%88%D9%83%D9%84%D8%A7%D8%A1.html\"\n",
    "\n",
    "shortened_url = shorten_url_free(long_arabic_url)\n",
    "\n",
    "print(f\"Original URL: {long_arabic_url}\")\n",
    "print(f\"Shortened URL: {shortened_url}\")"
   ]
  }
 ],
 "metadata": {
  "kernelspec": {
   "display_name": ".venv",
   "language": "python",
   "name": "python3"
  },
  "language_info": {
   "codemirror_mode": {
    "name": "ipython",
    "version": 3
   },
   "file_extension": ".py",
   "mimetype": "text/x-python",
   "name": "python",
   "nbconvert_exporter": "python",
   "pygments_lexer": "ipython3",
   "version": "3.13.2"
  }
 },
 "nbformat": 4,
 "nbformat_minor": 5
}
