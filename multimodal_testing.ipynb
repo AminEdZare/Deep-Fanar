{
 "cells": [
  {
   "cell_type": "code",
   "execution_count": 2,
   "id": "4369d68e",
   "metadata": {},
   "outputs": [
    {
     "name": "stdout",
     "output_type": "stream",
     "text": [
      "{'error': {'code': 'invalid_authentication', 'message': 'Invalid authentication', 'status': 401, 'param': None, 'type': None}}\n"
     ]
    }
   ],
   "source": [
    "# Translation requires additional authorization and is not allowed by default.\n",
    "from dotenv import load_dotenv\n",
    "import requests\n",
    "import os\n",
    "load_dotenv()\n",
    "FANAR_API_KEY = os.getenv(\"FANAR_API_KEY\")\n",
    "headers = {\n",
    "    \"Authorization\": FANAR_API_KEY,\n",
    "    \"Content-Type\": \"application/json\",\n",
    "}\n",
    "\n",
    "json_data = {\n",
    "    \"model\": \"Fanar-Shaheen-MT-1\",\n",
    "    \"text\": \"مرحبا بك في عالم الذكاء الاصطناعي!\",\n",
    "    \"langpair\": \"ar-en\",\n",
    "    \"preprocessing\": \"default\",\n",
    "}\n",
    "\n",
    "response = requests.post(\"https://api.fanar.qa/v1/translations\", headers=headers, json=json_data)\n",
    "\n",
    "print(response.json())"
   ]
  },
  {
   "cell_type": "code",
   "execution_count": 4,
   "id": "5318c6a2",
   "metadata": {},
   "outputs": [],
   "source": [
    "# Image Generation requires additional authorization and is not allowed by default.\n",
    "\n",
    "import base64\n",
    "from openai import OpenAI\n",
    "from PIL import Image as PILImage\n",
    "import io\n",
    "\n",
    "\n",
    "client = OpenAI(\n",
    "    base_url=\"https://api.fanar.qa/v1\",\n",
    "    api_key=FANAR_API_KEY,\n",
    ")\n",
    "\n",
    "response = client.images.generate(\n",
    "    model=\"Fanar-ImageGen-1\",\n",
    "    prompt=\"A serene sunset over a mountain lake with reflections of colorful clouds and pine trees\"\n",
    ")\n",
    "\n",
    "image_b64 = response.data[0].b64_json\n",
    "image_bytes = base64.b64decode(image_b64)\n",
    "\n",
    "img = PILImage.open(io.BytesIO(image_bytes))\n",
    "img.show()\n"
   ]
  }
 ],
 "metadata": {
  "kernelspec": {
   "display_name": ".venv",
   "language": "python",
   "name": "python3"
  },
  "language_info": {
   "codemirror_mode": {
    "name": "ipython",
    "version": 3
   },
   "file_extension": ".py",
   "mimetype": "text/x-python",
   "name": "python",
   "nbconvert_exporter": "python",
   "pygments_lexer": "ipython3",
   "version": "3.13.2"
  }
 },
 "nbformat": 4,
 "nbformat_minor": 5
}
