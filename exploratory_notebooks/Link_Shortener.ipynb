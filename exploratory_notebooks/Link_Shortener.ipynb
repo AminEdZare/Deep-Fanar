{
  "nbformat": 4,
  "nbformat_minor": 0,
  "metadata": {
    "colab": {
      "provenance": []
    },
    "kernelspec": {
      "name": "python3",
      "display_name": "Python 3"
    },
    "language_info": {
      "name": "python"
    }
  },
  "cells": [
    {
      "cell_type": "code",
      "execution_count": 15,
      "metadata": {
        "colab": {
          "base_uri": "https://localhost:8080/"
        },
        "id": "oblHdnovEyFG",
        "outputId": "c9a64c05-ff17-4120-9097-64157f35d244"
      },
      "outputs": [
        {
          "output_type": "stream",
          "name": "stdout",
          "text": [
            "Requirement already satisfied: requests in /usr/local/lib/python3.11/dist-packages (2.32.3)\n",
            "Requirement already satisfied: charset-normalizer<4,>=2 in /usr/local/lib/python3.11/dist-packages (from requests) (3.4.2)\n",
            "Requirement already satisfied: idna<4,>=2.5 in /usr/local/lib/python3.11/dist-packages (from requests) (3.10)\n",
            "Requirement already satisfied: urllib3<3,>=1.21.1 in /usr/local/lib/python3.11/dist-packages (from requests) (2.4.0)\n",
            "Requirement already satisfied: certifi>=2017.4.17 in /usr/local/lib/python3.11/dist-packages (from requests) (2025.6.15)\n"
          ]
        }
      ],
      "source": [
        "!pip install requests"
      ]
    },
    {
      "cell_type": "code",
      "source": [
        "import requests\n",
        "import json"
      ],
      "metadata": {
        "id": "k07-QVm9HJ6N"
      },
      "execution_count": 19,
      "outputs": []
    },
    {
      "cell_type": "markdown",
      "source": [],
      "metadata": {
        "id": "CpcSg7aDHJW2"
      }
    },
    {
      "cell_type": "code",
      "source": [
        "def shorten_url_free(long_url: str) -> str:\n",
        "    \"\"\"\n",
        "    Shortens a URL using the free is.gd API. No API key required.\n",
        "    \"\"\"\n",
        "    api_url = \"https://is.gd/create.php\"\n",
        "    params = {\n",
        "        'format': 'json',\n",
        "        'url': long_url\n",
        "    }\n",
        "    try:\n",
        "        response = requests.get(api_url, params=params, timeout=10)\n",
        "        response.raise_for_status()  # Raise an exception for bad status codes (like 4xx or 5xx)\n",
        "        data = response.json()\n",
        "        if 'shorturl' in data:\n",
        "            return data['shorturl']\n",
        "        else:\n",
        "            # is.gd returns an 'errorcode' and 'errormessage' on failure\n",
        "            error_message = data.get('errormessage', 'Unknown error')\n",
        "            return f\"Failed to shorten URL. Reason: {error_message}\"\n",
        "    except requests.exceptions.RequestException as e:\n",
        "        return f\"Request to is.gd failed: {str(e)}\"\n",
        "    except json.JSONDecodeError:\n",
        "        return \"Failed to parse response from is.gd. The service might be down.\""
      ],
      "metadata": {
        "id": "znOABuDsE1pk"
      },
      "execution_count": 17,
      "outputs": []
    },
    {
      "cell_type": "code",
      "source": [
        "long_arabic_url = \"https://fastercapital.com/arabpreneur/%D8%A3%D9%86%D8%B8%D9%85%D8%A9-%D8%A7%D9%84%D9%88%D9%83%D9%84%D8%A7%D8%A1-%D8%A7%D9%84%D9%85%D8%AA%D8%B9%D8%AF%D8%AF%D9%8A%D9%86--%D9%85%D8%AD%D8%A7%D9%83%D8%A7%D8%A9-%D8%A7%D9%84%D8%AA%D9%81%D8%A7%D8%B9%D9%84%D8%A7%D8%AA-%D8%A7%D9%84%D8%A7%D8%AC%D8%AA%D9%85%D8%A7%D8%B9%D9%8A%D8%A9-%D8%A8%D8%A7%D8%B3%D8%AA%D8%AE%D8%AF%D8%A7%D9%85-%D9%85%D8%AD%D8%A7%D9%83%D8%A7%D8%A9-%D9%86%D9%85%D9%88%D8%B0%D8%AC-%D8%A7%D9%84%D8%A3%D9%86%D8%B8%D9%85%D8%A9-%D8%A7%D9%84%D9%85%D8%AA%D8%B9%D8%AF%D8%AF%D8%A9-%D8%A7%D9%84%D9%88%D9%83%D9%84%D8%A7%D8%A1.html\"\n",
        "\n",
        "shortened_url = shorten_url_free(long_arabic_url)\n",
        "\n",
        "print(f\"Original URL: {long_arabic_url}\")\n",
        "print(f\"Shortened URL: {shortened_url}\")"
      ],
      "metadata": {
        "colab": {
          "base_uri": "https://localhost:8080/"
        },
        "id": "hhYCE_r9E1yK",
        "outputId": "b15fbbc9-5614-4178-95a9-146c05fd7844"
      },
      "execution_count": 18,
      "outputs": [
        {
          "output_type": "stream",
          "name": "stdout",
          "text": [
            "Original URL: https://fastercapital.com/arabpreneur/%D8%A3%D9%86%D8%B8%D9%85%D8%A9-%D8%A7%D9%84%D9%88%D9%83%D9%84%D8%A7%D8%A1-%D8%A7%D9%84%D9%85%D8%AA%D8%B9%D8%AF%D8%AF%D9%8A%D9%86--%D9%85%D8%AD%D8%A7%D9%83%D8%A7%D8%A9-%D8%A7%D9%84%D8%AA%D9%81%D8%A7%D8%B9%D9%84%D8%A7%D8%AA-%D8%A7%D9%84%D8%A7%D8%AC%D8%AA%D9%85%D8%A7%D8%B9%D9%8A%D8%A9-%D8%A8%D8%A7%D8%B3%D8%AA%D8%AE%D8%AF%D8%A7%D9%85-%D9%85%D8%AD%D8%A7%D9%83%D8%A7%D8%A9-%D9%86%D9%85%D9%88%D8%B0%D8%AC-%D8%A7%D9%84%D8%A3%D9%86%D8%B8%D9%85%D8%A9-%D8%A7%D9%84%D9%85%D8%AA%D8%B9%D8%AF%D8%AF%D8%A9-%D8%A7%D9%84%D9%88%D9%83%D9%84%D8%A7%D8%A1.html\n",
            "Shortened URL: https://is.gd/Wqf2F3\n"
          ]
        }
      ]
    }
  ]
}